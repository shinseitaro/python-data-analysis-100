{
 "cells": [
  {
   "cell_type": "markdown",
   "metadata": {},
   "source": [
    "## [最適化におけるPython - Qiita](https://qiita.com/SaitoTsutomu/items/070ca9cb37c6b2b492f0)\n",
    "\n",
    "\n",
    "+ 数理最適化問題をとくときのステップ\n",
    "    1. モデラーを作成して数理モデルを用意する\n",
    "    1. 数理モデルをソルバーに入力し、解を得る。\n",
    "+ Pythonで使うモデラー PuLP\n",
    "+ PuPL で扱える問題は混合整数最適化問題\n",
    "    + 連続（実数）変数と整数変数を使って表現\n",
    "    + 目的関数と制約条件が一次式\n",
    "\n",
    "\n"
   ]
  },
  {
   "cell_type": "markdown",
   "metadata": {},
   "source": [
    "### 例題\n",
    "```\n",
    "材料AとBを合成して出来る化学製品XとYをできるだけたくさん作りたい。\n",
    "Xを作るにはAを１ｋｇ、Bを３ｋｇ\n",
    "Yを作るにはAを２ｋｇ、Bを１ｋｇ必要\n",
    "XとYの売価は１ｋｇあたり１００円\n",
    "いま、材料Aは１６ｋｇ、Bは１８ｋｇある\n",
    "このときXとYの合計販売額が最大になるようにするには、XとYをどれだけ作成すればよいか？\n",
    "```"
   ]
  },
  {
   "cell_type": "markdown",
   "metadata": {},
   "source": [
    "item |　式\n",
    "---| --- \n",
    "変数 | x, y >= 0 \n",
    "目的変数 | 100x + 100y を最大化\n",
    "制約条件 | x + 2y <= 16 <br> 3x + y <= 18\n"
   ]
  },
  {
   "cell_type": "code",
   "execution_count": 11,
   "metadata": {},
   "outputs": [
    {
     "name": "stdout",
     "output_type": "stream",
     "text": [
      "4.0 6.0\n"
     ]
    }
   ],
   "source": [
    "from pulp import * \n",
    "m = LpProblem(sense=LpMaximize) # 数理モデル 最小化問題のとき: 最小化問題のとき: m = LpPrblem()\n",
    "x = LpVariable('x', lowBound=0) # 連続変数　lowbound=0：非負　\n",
    "y = LpVariable('y', lowBound=0) # 連続変数　\n",
    "# ちなみに、連続変数のリストを作るには \n",
    "# x = [LpVariable(i番目の変数名, lowBound=0) for i in range(n)] で、変数名は必ず一意\n",
    "\n",
    "# まずは目的関数を追加　目的関数は m += 式\n",
    "m += 100 * x + 100 * y\n",
    "\n",
    "# 制約条件を追加 制約条件は m += 式 == 式 / m += 式 <= 式 / m += 式 >= 式 \n",
    "m += x + 2*y <= 16\n",
    "m += 3*x + y <= 18\n",
    "\n",
    "m.solve()\n",
    "\n",
    "print(value(x), value(y))\n"
   ]
  },
  {
   "cell_type": "markdown",
   "metadata": {},
   "source": [
    "式の例は、\n",
    "\n",
    "+ 和：lpSum(変数のリスト）\n",
    "+ 内積： lpDot(係数リスト, 変数リスト) \n",
    "\n",
    "最大化、最小化のオプション\n",
    "- LpProblem(sense=LpMaximize) のところは、デフォルトはLpMinimize、これは `LpMinimize = 1` でもあるので、m1 って書くんだね！\n",
    "- sense=LpMaximize(LpMaximize = -1)\n",
    "\n",
    "\n",
    "\n"
   ]
  },
  {
   "cell_type": "markdown",
   "metadata": {},
   "source": [
    "## 輸送最適化問題"
   ]
  },
  {
   "cell_type": "markdown",
   "metadata": {},
   "source": [
    "+ 変数：倉庫群から工場群へ輸送個数を決めたい\n",
    "+ 目的関数：輸送コストの最小化\n",
    "    + コストテーブルに輸送個数をかけて足し合わせたものを最小化\n",
    "+ 制約\n",
    "    + 倉庫からの供給可能量以下\n",
    "    + 工場の需要量以上\n",
    "\n",
    "---\n",
    "+ 倉庫から工場へのコスト\n",
    "\n",
    "工場|F1|F2|F3|F4\n",
    "---|---|---|---|---\n",
    "W1|10|10|11|27\n",
    "W2|18|21|12|14\n",
    "W3|15|12|14|12\n",
    "\n",
    "+ 各倉庫の供給可能最大値\n",
    "\n",
    "W1|W2|W3\n",
    "---|---|---\n",
    "35|41|42\n",
    "\n",
    "+ 各工場の需要最小値\n",
    "\n",
    "F1|F2|F3|F4\n",
    "---|---|---|---\n",
    "28|29|31|25\n",
    "\n"
   ]
  },
  {
   "cell_type": "code",
   "execution_count": 27,
   "metadata": {},
   "outputs": [],
   "source": [
    "import pandas as pd\n",
    "import numpy as np\n",
    "from itertools import product\n",
    "from pulp import * \n",
    "np.random.seed(1)\n",
    "\n",
    "# 倉庫は３つ、工場は４つ\n",
    "supplies = [35,41,42]\n",
    "demands = [28,29,31,25]\n",
    "\n",
    "nw = len(supplies)\n",
    "nf = len(demands)\n",
    "\n",
    "pr = list(product(range(nw), range(nf)))\n",
    "\n",
    "costs = [[10,10,11,27],[18,21,12,14],[15,12,14,12]]\n",
    "\n"
   ]
  },
  {
   "cell_type": "code",
   "execution_count": 28,
   "metadata": {},
   "outputs": [],
   "source": [
    "# モデル作成\n",
    "m1 = LpProblem()\n",
    "v1 = {(i,j): LpVariable(f'v{i}_{j}', lowBound=0) for i,j in pr}\n"
   ]
  },
  {
   "cell_type": "code",
   "execution_count": 34,
   "metadata": {},
   "outputs": [
    {
     "name": "stdout",
     "output_type": "stream",
     "text": [
      "{(0, 0): v0_0,\n",
      " (0, 1): v0_1,\n",
      " (0, 2): v0_2,\n",
      " (0, 3): v0_3,\n",
      " (1, 0): v1_0,\n",
      " (1, 1): v1_1,\n",
      " (1, 2): v1_2,\n",
      " (1, 3): v1_3,\n",
      " (2, 0): v2_0,\n",
      " (2, 1): v2_1,\n",
      " (2, 2): v2_2,\n",
      " (2, 3): v2_3}\n"
     ]
    }
   ],
   "source": [
    "from pprint import pprint\n",
    "pprint(v1, width=40)\n"
   ]
  },
  {
   "cell_type": "markdown",
   "metadata": {},
   "source": [
    ".|j0|j1|j2|j3\n",
    "---|---|---|---|---\n",
    "i0|(0, 0): v0_0| (0, 1): v0_1| (0, 2): v0_2| (0, 3): v0_3\n",
    "i1|(1, 0): v1_0| (1, 1): v1_1| (1, 2): v1_2| (1, 3): v1_3\n",
    "i2|(2, 0): v2_0| (2, 1): v2_1| (2, 2): v2_2| (2, 3): v2_3\n"
   ]
  },
  {
   "cell_type": "code",
   "execution_count": 25,
   "metadata": {},
   "outputs": [],
   "source": [
    "# 目的関数を追加 = コストテーブルに輸送個数をかけて足し合わせたものを最小化\n",
    "m1 += lpSum([costs[i][j] * v1[i,j] for i, j in pr]) # コレを最小化\n"
   ]
  },
  {
   "cell_type": "code",
   "execution_count": 35,
   "metadata": {},
   "outputs": [],
   "source": [
    "# 制約条件\n",
    "for i in range(nw):\n",
    "    m1 += lpSum(v1[i,j] for j in range(nf)) <= supplies[i]\n",
    "    "
   ]
  },
  {
   "cell_type": "code",
   "execution_count": 37,
   "metadata": {},
   "outputs": [],
   "source": [
    "for j in range(nf):\n",
    "    m1 += lpSum(v1[i, j] for i in range(nw)) >= demands[j]"
   ]
  },
  {
   "cell_type": "code",
   "execution_count": 38,
   "metadata": {},
   "outputs": [
    {
     "data": {
      "text/plain": [
       "1"
      ]
     },
     "execution_count": 38,
     "metadata": {},
     "output_type": "execute_result"
    }
   ],
   "source": [
    "m1.solve()"
   ]
  },
  {
   "cell_type": "code",
   "execution_count": 49,
   "metadata": {},
   "outputs": [],
   "source": [
    "# こんなんでました。\n",
    "num_ships = pd.Series({k:value(v) for k, v in v1.items()}).unstack()"
   ]
  },
  {
   "cell_type": "code",
   "execution_count": 54,
   "metadata": {},
   "outputs": [
    {
     "data": {
      "text/html": [
       "<div>\n",
       "<style scoped>\n",
       "    .dataframe tbody tr th:only-of-type {\n",
       "        vertical-align: middle;\n",
       "    }\n",
       "\n",
       "    .dataframe tbody tr th {\n",
       "        vertical-align: top;\n",
       "    }\n",
       "\n",
       "    .dataframe thead th {\n",
       "        text-align: right;\n",
       "    }\n",
       "</style>\n",
       "<table border=\"1\" class=\"dataframe\">\n",
       "  <thead>\n",
       "    <tr style=\"text-align: right;\">\n",
       "      <th></th>\n",
       "      <th>0</th>\n",
       "      <th>1</th>\n",
       "      <th>2</th>\n",
       "      <th>3</th>\n",
       "    </tr>\n",
       "  </thead>\n",
       "  <tbody>\n",
       "    <tr>\n",
       "      <th>0</th>\n",
       "      <td>0.0</td>\n",
       "      <td>340.0</td>\n",
       "      <td>0.0</td>\n",
       "      <td>27.0</td>\n",
       "    </tr>\n",
       "    <tr>\n",
       "      <th>1</th>\n",
       "      <td>0.0</td>\n",
       "      <td>0.0</td>\n",
       "      <td>372.0</td>\n",
       "      <td>140.0</td>\n",
       "    </tr>\n",
       "    <tr>\n",
       "      <th>2</th>\n",
       "      <td>420.0</td>\n",
       "      <td>0.0</td>\n",
       "      <td>0.0</td>\n",
       "      <td>168.0</td>\n",
       "    </tr>\n",
       "  </tbody>\n",
       "</table>\n",
       "</div>"
      ],
      "text/plain": [
       "       0      1      2      3\n",
       "0    0.0  340.0    0.0   27.0\n",
       "1    0.0    0.0  372.0  140.0\n",
       "2  420.0    0.0    0.0  168.0"
      ]
     },
     "execution_count": 54,
     "metadata": {},
     "output_type": "execute_result"
    }
   ],
   "source": [
    "pd.DataFrame(costs) * num_ships \n"
   ]
  },
  {
   "cell_type": "code",
   "execution_count": 57,
   "metadata": {},
   "outputs": [
    {
     "data": {
      "text/plain": [
       "1467.0"
      ]
     },
     "execution_count": 57,
     "metadata": {},
     "output_type": "execute_result"
    }
   ],
   "source": [
    "(pd.DataFrame(costs) * num_ships ).sum().sum()"
   ]
  },
  {
   "cell_type": "markdown",
   "metadata": {},
   "source": [
    "## Pandas で解くぞ"
   ]
  },
  {
   "cell_type": "code",
   "execution_count": 65,
   "metadata": {},
   "outputs": [
    {
     "data": {
      "text/html": [
       "<div>\n",
       "<style scoped>\n",
       "    .dataframe tbody tr th:only-of-type {\n",
       "        vertical-align: middle;\n",
       "    }\n",
       "\n",
       "    .dataframe tbody tr th {\n",
       "        vertical-align: top;\n",
       "    }\n",
       "\n",
       "    .dataframe thead th {\n",
       "        text-align: right;\n",
       "    }\n",
       "</style>\n",
       "<table border=\"1\" class=\"dataframe\">\n",
       "  <thead>\n",
       "    <tr style=\"text-align: right;\">\n",
       "      <th></th>\n",
       "      <th>倉庫</th>\n",
       "      <th>工場</th>\n",
       "      <th>コスト</th>\n",
       "    </tr>\n",
       "  </thead>\n",
       "  <tbody>\n",
       "    <tr>\n",
       "      <th>0</th>\n",
       "      <td>0</td>\n",
       "      <td>0</td>\n",
       "      <td>10</td>\n",
       "    </tr>\n",
       "    <tr>\n",
       "      <th>1</th>\n",
       "      <td>0</td>\n",
       "      <td>1</td>\n",
       "      <td>10</td>\n",
       "    </tr>\n",
       "    <tr>\n",
       "      <th>2</th>\n",
       "      <td>0</td>\n",
       "      <td>2</td>\n",
       "      <td>11</td>\n",
       "    </tr>\n",
       "    <tr>\n",
       "      <th>3</th>\n",
       "      <td>0</td>\n",
       "      <td>3</td>\n",
       "      <td>27</td>\n",
       "    </tr>\n",
       "    <tr>\n",
       "      <th>4</th>\n",
       "      <td>1</td>\n",
       "      <td>0</td>\n",
       "      <td>18</td>\n",
       "    </tr>\n",
       "  </tbody>\n",
       "</table>\n",
       "</div>"
      ],
      "text/plain": [
       "   倉庫  工場  コスト\n",
       "0   0   0   10\n",
       "1   0   1   10\n",
       "2   0   2   11\n",
       "3   0   3   27\n",
       "4   1   0   18"
      ]
     },
     "execution_count": 65,
     "metadata": {},
     "output_type": "execute_result"
    }
   ],
   "source": [
    "df_v = pd.DataFrame([(i, j) for i, j in pr], columns=[\"倉庫\", \"工場\"])\n",
    "df_v[\"コスト\"] = pd.DataFrame(costs).values.flatten()\n",
    "df_v.head()"
   ]
  },
  {
   "cell_type": "code",
   "execution_count": 66,
   "metadata": {},
   "outputs": [],
   "source": [
    "# モデル作成\n",
    "m2 = LpProblem()\n"
   ]
  },
  {
   "cell_type": "code",
   "execution_count": 69,
   "metadata": {},
   "outputs": [
    {
     "data": {
      "text/html": [
       "<div>\n",
       "<style scoped>\n",
       "    .dataframe tbody tr th:only-of-type {\n",
       "        vertical-align: middle;\n",
       "    }\n",
       "\n",
       "    .dataframe tbody tr th {\n",
       "        vertical-align: top;\n",
       "    }\n",
       "\n",
       "    .dataframe thead th {\n",
       "        text-align: right;\n",
       "    }\n",
       "</style>\n",
       "<table border=\"1\" class=\"dataframe\">\n",
       "  <thead>\n",
       "    <tr style=\"text-align: right;\">\n",
       "      <th></th>\n",
       "      <th>倉庫</th>\n",
       "      <th>工場</th>\n",
       "      <th>コスト</th>\n",
       "      <th>Var</th>\n",
       "    </tr>\n",
       "  </thead>\n",
       "  <tbody>\n",
       "    <tr>\n",
       "      <th>0</th>\n",
       "      <td>0</td>\n",
       "      <td>0</td>\n",
       "      <td>10</td>\n",
       "      <td>v0</td>\n",
       "    </tr>\n",
       "    <tr>\n",
       "      <th>1</th>\n",
       "      <td>0</td>\n",
       "      <td>1</td>\n",
       "      <td>10</td>\n",
       "      <td>v1</td>\n",
       "    </tr>\n",
       "    <tr>\n",
       "      <th>2</th>\n",
       "      <td>0</td>\n",
       "      <td>2</td>\n",
       "      <td>11</td>\n",
       "      <td>v2</td>\n",
       "    </tr>\n",
       "    <tr>\n",
       "      <th>3</th>\n",
       "      <td>0</td>\n",
       "      <td>3</td>\n",
       "      <td>27</td>\n",
       "      <td>v3</td>\n",
       "    </tr>\n",
       "    <tr>\n",
       "      <th>4</th>\n",
       "      <td>1</td>\n",
       "      <td>0</td>\n",
       "      <td>18</td>\n",
       "      <td>v4</td>\n",
       "    </tr>\n",
       "  </tbody>\n",
       "</table>\n",
       "</div>"
      ],
      "text/plain": [
       "   倉庫  工場  コスト Var\n",
       "0   0   0   10  v0\n",
       "1   0   1   10  v1\n",
       "2   0   2   11  v2\n",
       "3   0   3   27  v3\n",
       "4   1   0   18  v4"
      ]
     },
     "execution_count": 69,
     "metadata": {},
     "output_type": "execute_result"
    }
   ],
   "source": [
    "df_v[\"Var\"] = [LpVariable(f'v{i}', lowBound=0) for i in df_v.index]\n",
    "df_v.head()"
   ]
  },
  {
   "cell_type": "code",
   "execution_count": 72,
   "metadata": {},
   "outputs": [],
   "source": [
    "# 目的関数\n",
    "m2 += lpDot(df_v[\"コスト\"], df_v[\"Var\"])"
   ]
  },
  {
   "cell_type": "code",
   "execution_count": 73,
   "metadata": {},
   "outputs": [],
   "source": [
    "# 制約条件\n",
    "for i, df in df_v.groupby(\"倉庫\"):\n",
    "    m2 += lpSum(df[\"Var\"]) <= supplies[i]\n",
    "\n",
    "for i, df in df_v.groupby(\"工場\"):\n",
    "    m2 += lpSum(df[\"Var\"]) >= demands[i]\n",
    "    "
   ]
  },
  {
   "cell_type": "code",
   "execution_count": 74,
   "metadata": {},
   "outputs": [
    {
     "data": {
      "text/plain": [
       "1"
      ]
     },
     "execution_count": 74,
     "metadata": {},
     "output_type": "execute_result"
    }
   ],
   "source": [
    "m2.solve()\n"
   ]
  },
  {
   "cell_type": "code",
   "execution_count": 77,
   "metadata": {},
   "outputs": [],
   "source": [
    "df_v[\"num_of_ship\"] = df_v[\"Var\"].apply(value)"
   ]
  },
  {
   "cell_type": "code",
   "execution_count": 80,
   "metadata": {},
   "outputs": [
    {
     "data": {
      "text/plain": [
       "1296.0"
      ]
     },
     "execution_count": 80,
     "metadata": {},
     "output_type": "execute_result"
    }
   ],
   "source": [
    "(df_v[\"コスト\"] * df_v[\"num_of_ship\"]).sum()"
   ]
  }
 ],
 "metadata": {
  "kernelspec": {
   "display_name": "Python 3",
   "language": "python",
   "name": "python3"
  },
  "language_info": {
   "codemirror_mode": {
    "name": "ipython",
    "version": 3
   },
   "file_extension": ".py",
   "mimetype": "text/x-python",
   "name": "python",
   "nbconvert_exporter": "python",
   "pygments_lexer": "ipython3",
   "version": "3.7.9"
  }
 },
 "nbformat": 4,
 "nbformat_minor": 4
}
