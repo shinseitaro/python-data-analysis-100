{
 "cells": [
  {
   "cell_type": "code",
   "execution_count": 1,
   "metadata": {},
   "outputs": [],
   "source": [
    "# 警告(worning)の非表示化\n",
    "import warnings\n",
    "warnings.filterwarnings('ignore')"
   ]
  },
  {
   "cell_type": "markdown",
   "metadata": {},
   "source": [
    "# 7章 ロジスティクスネットワークの最適設計を行う10本ノック\n",
    "\n",
    "ここでは、最適化計算を行ういくつかのライブラリを用いて、最適化計算を実際に行っていきます。  \n",
    "そして、前章で用いたネットワーク可視化などの技術を駆使し、計算結果の妥当性を確認する方法についても学んでいきます。"
   ]
  },
  {
   "cell_type": "markdown",
   "metadata": {},
   "source": [
    "### ノック６１：輸送最適化問題を解いてみよう"
   ]
  },
  {
   "cell_type": "code",
   "execution_count": 19,
   "metadata": {},
   "outputs": [
    {
     "name": "stdout",
     "output_type": "stream",
     "text": [
      "{(0, 0): v0_0, (0, 1): v0_1, (0, 2): v0_2, (0, 3): v0_3, (1, 0): v1_0, (1, 1): v1_1, (1, 2): v1_2, (1, 3): v1_3, (2, 0): v2_0, (2, 1): v2_1, (2, 2): v2_2, (2, 3): v2_3}\n",
      "28.0\n",
      "7.0\n",
      "0.0\n",
      "0.0\n",
      "0.0\n",
      "0.0\n",
      "31.0\n",
      "5.0\n",
      "0.0\n",
      "22.0\n",
      "0.0\n",
      "20.0\n",
      "    F1  F2  F3  F4\n",
      "工場                \n",
      "W1  28   7   0   0\n",
      "W2   0   0  31   5\n",
      "W3   0  22   0  20\n",
      "総輸送コスト:1296.0\n"
     ]
    }
   ],
   "source": [
    "import numpy as np\n",
    "import pandas as pd\n",
    "from itertools import product\n",
    "from pulp import LpVariable, lpSum, value\n",
    "from ortoolpy import model_min, addvars, addvals\n",
    "\n",
    "# データ読み込み\n",
    "df_tc = pd.read_csv('trans_cost.csv', index_col=\"工場\")\n",
    "df_demand = pd.read_csv('demand.csv')\n",
    "df_supply = pd.read_csv('supply.csv')\n",
    "\n",
    "# 初期設定 #\n",
    "np.random.seed(1)\n",
    "nw = len(df_tc.index)\n",
    "nf = len(df_tc.columns)\n",
    "pr = list(product(range(nw), range(nf)))\n",
    "\n",
    "# 数理モデル作成 #\n",
    "m1 = model_min()\n",
    "v1 = {(i,j):LpVariable('v%d_%d'%(i,j),lowBound=0) for i,j in pr}\n",
    "\n",
    "m1 += lpSum(df_tc.iloc[i][j]*v1[i,j] for i,j in pr)\n",
    "for i in range(nw):\n",
    "    m1 += lpSum(v1[i,j] for j in range(nf)) <= df_supply.iloc[0][i]\n",
    "for j in range(nf):\n",
    "    m1 += lpSum(v1[i,j] for i in range(nw)) >= df_demand.iloc[0][j]\n",
    "m1.solve()\n",
    "\n",
    "print(v1)\n",
    "# 総輸送コスト計算 #\n",
    "df_tr_sol = df_tc.copy()\n",
    "total_cost = 0\n",
    "for k,x in v1.items():\n",
    "    i,j = k[0],k[1]\n",
    "    print(value(x))\n",
    "    df_tr_sol.iloc[i][j] = value(x)\n",
    "    total_cost += df_tc.iloc[i][j]*value(x)\n",
    "    \n",
    "print(df_tr_sol)\n",
    "print(\"総輸送コスト:\"+str(total_cost))"
   ]
  },
  {
   "cell_type": "code",
   "execution_count": 7,
   "metadata": {},
   "outputs": [
    {
     "data": {
      "text/plain": [
       "False"
      ]
     },
     "execution_count": 7,
     "metadata": {},
     "output_type": "execute_result"
    }
   ],
   "source": [
    "m1.solver.msg = True"
   ]
  },
  {
   "cell_type": "markdown",
   "metadata": {},
   "source": [
    "### ノック６２：最適輸送ルートをネットワークで確認しよう"
   ]
  },
  {
   "cell_type": "code",
   "execution_count": 28,
   "metadata": {},
   "outputs": [
    {
     "name": "stdout",
     "output_type": "stream",
     "text": [
      "W1 W2 0\n",
      "W1 W3 0\n",
      "W1 F1 2.8000000000000003\n",
      "W1 F2 0.7000000000000001\n",
      "W1 F3 0\n",
      "W1 F4 0\n",
      "W2 W3 0\n",
      "W2 F1 0\n",
      "W2 F2 0\n",
      "W2 F3 3.1\n",
      "W2 F4 0.5\n",
      "W3 F1 0\n",
      "W3 F2 2.2\n",
      "W3 F3 0\n",
      "W3 F4 2.0\n",
      "F1 F2 0\n",
      "F1 F3 0\n",
      "F1 F4 0\n",
      "F2 F3 0\n",
      "F2 F4 0\n",
      "F3 F4 0\n"
     ]
    },
    {
     "data": {
      "text/plain": [
       "[0,\n",
       " 0,\n",
       " 2.8000000000000003,\n",
       " 0.7000000000000001,\n",
       " 0,\n",
       " 0,\n",
       " 0,\n",
       " 0,\n",
       " 0,\n",
       " 3.1,\n",
       " 0.5,\n",
       " 0,\n",
       " 2.2,\n",
       " 0,\n",
       " 2.0,\n",
       " 0,\n",
       " 0,\n",
       " 0,\n",
       " 0,\n",
       " 0,\n",
       " 0]"
      ]
     },
     "execution_count": 28,
     "metadata": {},
     "output_type": "execute_result"
    }
   ],
   "source": [
    "import pandas as pd\n",
    "import numpy as np\n",
    "import matplotlib.pyplot as plt\n",
    "import networkx as nx\n",
    "\n",
    "# データ読み込み\n",
    "df_tr = df_tr_sol.copy()\n",
    "df_pos = pd.read_csv('trans_route_pos.csv')\n",
    "\n",
    "# グラフオブジェクトの作成\n",
    "G = nx.Graph()\n",
    "\n",
    "# 頂点の設定\n",
    "for i in range(len(df_pos.columns)):\n",
    "    G.add_node(df_pos.columns[i])\n",
    "\n",
    "# 辺の設定&エッジの重みのリスト化\n",
    "num_pre = 0\n",
    "edge_weights = []\n",
    "size = 0.1\n",
    "for i in range(len(df_pos.columns)):\n",
    "    for j in range(len(df_pos.columns)):\n",
    "        if not (i==j):\n",
    "            # 辺の追加\n",
    "            \n",
    "            G.add_edge(df_pos.columns[i],df_pos.columns[j])\n",
    "            # エッジの重みの追加\n",
    "            if num_pre<len(G.edges):\n",
    "                num_pre = len(G.edges)\n",
    "                weight = 0\n",
    "                if (df_pos.columns[i] in df_tr.columns)and(df_pos.columns[j] in df_tr.index):\n",
    "                    if df_tr[df_pos.columns[i]][df_pos.columns[j]]:\n",
    "                        #print(df_tr[df_pos.columns[i]][df_pos.columns[j]])\n",
    "                        weight = df_tr[df_pos.columns[i]][df_pos.columns[j]]*size\n",
    "                elif(df_pos.columns[j] in df_tr.columns)and(df_pos.columns[i] in df_tr.index):\n",
    "                    if df_tr[df_pos.columns[j]][df_pos.columns[i]]:\n",
    "                        #print(df_pos.columns[j], df_pos.columns[i])\n",
    "                        #print(df_tr[df_pos.columns[j]][df_pos.columns[i]])\n",
    "                        weight = df_tr[df_pos.columns[j]][df_pos.columns[i]]*size\n",
    "                edge_weights.append(weight)\n",
    "                print(df_pos.columns[i],df_pos.columns[j], weight)\n",
    "edge_weights                "
   ]
  },
  {
   "cell_type": "code",
   "execution_count": 29,
   "metadata": {},
   "outputs": [
    {
     "name": "stdout",
     "output_type": "stream",
     "text": [
      "{'W1': (0, 1), 'W2': (0, 2), 'W3': (0, 3), 'F1': (4.0, 0.5), 'F2': (4.0, 1.5), 'F3': (4.0, 2.5), 'F4': (4.0, 3.5)}\n"
     ]
    },
    {
     "data": {
      "image/png": "[encoded data removed]",
      "text/plain": [
       "<Figure size 432x288 with 1 Axes>"
      ]
     },
     "metadata": {},
     "output_type": "display_data"
    },
    {
     "data": {
      "text/plain": [
       "<networkx.classes.graph.Graph at 0x7f41ae7330d0>"
      ]
     },
     "execution_count": 29,
     "metadata": {},
     "output_type": "execute_result"
    }
   ],
   "source": [
    "\n",
    "# 座標の設定\n",
    "pos = {}\n",
    "for i in range(len(df_pos.columns)):\n",
    "    node = df_pos.columns[i]\n",
    "    pos[node] = (df_pos[node][0],df_pos[node][1])\n",
    "\n",
    "print(pos)    \n",
    "# 描画\n",
    "nx.draw(G, pos, with_labels=True,font_size=16, node_size = 1000, node_color='k', font_color='w', width=edge_weights)\n",
    "\n",
    "# 表示\n",
    "plt.show()\n"
   ]
  },
  {
   "cell_type": "markdown",
   "metadata": {},
   "source": [
    "### ノック６３：最適輸送ルートが制約条件内に収まっているかどうかを確認しよう"
   ]
  },
  {
   "cell_type": "code",
   "execution_count": 4,
   "metadata": {},
   "outputs": [
    {
     "name": "stdout",
     "output_type": "stream",
     "text": [
      "需要条件計算結果:[1. 1. 1. 1.]\n",
      "供給条件計算結果:[1. 1. 1.]\n"
     ]
    }
   ],
   "source": [
    "import pandas as pd\n",
    "import numpy as np\n",
    "\n",
    "# データ読み込み\n",
    "df_demand = pd.read_csv('demand.csv')\n",
    "df_supply = pd.read_csv('supply.csv')\n",
    "\n",
    "# 制約条件計算関数\n",
    "# 需要側\n",
    "def condition_demand(df_tr,df_demand):\n",
    "    flag = np.zeros(len(df_demand.columns))\n",
    "    for i in range(len(df_demand.columns)):\n",
    "        temp_sum = sum(df_tr[df_demand.columns[i]])\n",
    "        if (temp_sum>=df_demand.iloc[0][i]):\n",
    "            flag[i] = 1\n",
    "    return flag\n",
    "            \n",
    "# 供給側\n",
    "def condition_supply(df_tr,df_supply):\n",
    "    flag = np.zeros(len(df_supply.columns))\n",
    "    for i in range(len(df_supply.columns)):\n",
    "        temp_sum = sum(df_tr.loc[df_supply.columns[i]])\n",
    "        if temp_sum<=df_supply.iloc[0][i]:\n",
    "            flag[i] = 1\n",
    "    return flag\n",
    "\n",
    "print(\"需要条件計算結果:\"+str(condition_demand(df_tr_sol,df_demand)))\n",
    "print(\"供給条件計算結果:\"+str(condition_supply(df_tr_sol,df_supply)))"
   ]
  },
  {
   "cell_type": "markdown",
   "metadata": {},
   "source": [
    "### ノック６４：生産計画に関するデータを読み込んでみよう"
   ]
  },
  {
   "cell_type": "code",
   "execution_count": 5,
   "metadata": {},
   "outputs": [
    {
     "name": "stdout",
     "output_type": "stream",
     "text": [
      "     原料1  原料2  原料3\n",
      "製品                \n",
      "製品1    1    4    3\n",
      "製品2    2    4    1\n",
      "      利益\n",
      "製品      \n",
      "製品1  5.0\n",
      "製品2  4.0\n",
      "    原料1  原料2  原料3\n",
      "項目               \n",
      "在庫   40   80   50\n",
      "      生産量\n",
      "製品       \n",
      "製品1    16\n",
      "製品2     0\n"
     ]
    }
   ],
   "source": [
    "import pandas as pd\n",
    "\n",
    "df_material = pd.read_csv('product_plan_material.csv', index_col=\"製品\")\n",
    "print(df_material)\n",
    "df_profit = pd.read_csv('product_plan_profit.csv', index_col=\"製品\")\n",
    "print(df_profit)\n",
    "df_stock = pd.read_csv('product_plan_stock.csv', index_col=\"項目\")\n",
    "print(df_stock)\n",
    "df_plan = pd.read_csv('product_plan.csv', index_col=\"製品\")\n",
    "print(df_plan)"
   ]
  },
  {
   "cell_type": "markdown",
   "metadata": {},
   "source": [
    "### ノック６５：利益を計算する関数を作ってみよう"
   ]
  },
  {
   "cell_type": "code",
   "execution_count": 6,
   "metadata": {},
   "outputs": [
    {
     "name": "stdout",
     "output_type": "stream",
     "text": [
      "総利益:80.0\n"
     ]
    }
   ],
   "source": [
    "# 利益計算関数\n",
    "def product_plan(df_profit,df_plan):\n",
    "    profit = 0\n",
    "    for i in range(len(df_profit.index)):\n",
    "        for j in range(len(df_plan.columns)):\n",
    "            profit += df_profit.iloc[i][j]*df_plan.iloc[i][j]\n",
    "    return profit\n",
    "\n",
    "print(\"総利益:\"+str(product_plan(df_profit,df_plan)))"
   ]
  },
  {
   "cell_type": "markdown",
   "metadata": {},
   "source": [
    "### ノック６６：生産最適化問題を解いてみよう"
   ]
  },
  {
   "cell_type": "code",
   "execution_count": 7,
   "metadata": {},
   "outputs": [
    {
     "name": "stdout",
     "output_type": "stream",
     "text": [
      "      生産量\n",
      "製品       \n",
      "製品1  15.0\n",
      "製品2   5.0\n",
      "総利益:95.0\n"
     ]
    }
   ],
   "source": [
    "import pandas as pd\n",
    "from pulp import LpVariable, lpSum, value\n",
    "from ortoolpy import model_max, addvars, addvals\n",
    "\n",
    "\n",
    "df = df_material.copy()\n",
    "inv = df_stock\n",
    "\n",
    "m = model_max()\n",
    "v1 = {(i):LpVariable('v%d'%(i),lowBound=0) for i in range(len(df_profit))}\n",
    "m += lpSum(df_profit.iloc[i]*v1[i] for i in range(len(df_profit)))\n",
    "for i in range(len(df_material.columns)):\n",
    "    m += lpSum(df_material.iloc[j,i]*v1[j] for j in range(len(df_profit)) ) <= df_stock.iloc[:,i]\n",
    "m.solve()\n",
    "\n",
    "df_plan_sol = df_plan.copy()\n",
    "for k,x in v1.items():\n",
    "    df_plan_sol.iloc[k] = value(x)\n",
    "print(df_plan_sol)\n",
    "print(\"総利益:\"+str(value(m.objective)))"
   ]
  },
  {
   "cell_type": "markdown",
   "metadata": {},
   "source": [
    "### ノック６７：最適生産計画が制約条件内に収まっているかどうかを確認しよう"
   ]
  },
  {
   "cell_type": "code",
   "execution_count": 8,
   "metadata": {},
   "outputs": [
    {
     "name": "stdout",
     "output_type": "stream",
     "text": [
      "原料1  使用量:25.0, 在庫:40.0\n",
      "原料2  使用量:80.0, 在庫:80.0\n",
      "原料3  使用量:50.0, 在庫:50.0\n",
      "制約条件計算結果:[1. 1. 1.]\n"
     ]
    }
   ],
   "source": [
    "# 制約条件計算関数\n",
    "def condition_stock(df_plan,df_material,df_stock):\n",
    "    flag = np.zeros(len(df_material.columns))\n",
    "    for i in range(len(df_material.columns)):  \n",
    "        temp_sum = 0\n",
    "        for j in range(len(df_material.index)):  \n",
    "            temp_sum = temp_sum + df_material.iloc[j][i]*float(df_plan.iloc[j])\n",
    "        if (temp_sum<=float(df_stock.iloc[0][i])):\n",
    "            flag[i] = 1\n",
    "        print(df_material.columns[i]+\"  使用量:\"+str(temp_sum)+\", 在庫:\"+str(float(df_stock.iloc[0][i])))\n",
    "    return flag\n",
    "\n",
    "print(\"制約条件計算結果:\"+str(condition_stock(df_plan_sol,df_material,df_stock)))"
   ]
  },
  {
   "cell_type": "markdown",
   "metadata": {},
   "source": [
    "### ノック６８：ロジスティクスネットワーク設計問題を解いてみよう"
   ]
  },
  {
   "cell_type": "code",
   "execution_count": 9,
   "metadata": {},
   "outputs": [
    {
     "name": "stdout",
     "output_type": "stream",
     "text": [
      "  需要地 工場  輸送費\n",
      "0   P  X    1\n",
      "1   P  Y    2\n",
      "2   Q  X    3\n",
      "3   Q  Y    1\n",
      "  需要地 製品  需要\n",
      "0   P  A  10\n",
      "1   P  B  10\n",
      "2   Q  A  20\n",
      "3   Q  B  20\n",
      "  工場  レーン 製品  下限    上限  生産費\n",
      "0  X    0  A   0   inf  1.0\n",
      "3  X    1  B   0   inf  1.0\n",
      "4  Y    0  A   0  10.0  3.0\n",
      "6  Y    1  A   0   inf  5.0\n",
      "7  Y    1  B   0   inf  3.0\n",
      "  工場  レーン 製品  下限    上限  生産費     VarY  ValY\n",
      "0  X    0  A   0   inf  1.0  v000009  20.0\n",
      "3  X    1  B   0   inf  1.0  v000010  10.0\n",
      "4  Y    0  A   0  10.0  3.0  v000011  10.0\n",
      "6  Y    1  A   0   inf  5.0  v000012   0.0\n",
      "7  Y    1  B   0   inf  3.0  v000013  20.0\n",
      "  需要地 工場  輸送費 製品     VarX  ValX\n",
      "0   P  X    1  A  v000001  10.0\n",
      "1   P  X    1  B  v000002  10.0\n",
      "2   Q  X    3  A  v000003  10.0\n",
      "3   Q  X    3  B  v000004   0.0\n",
      "4   P  Y    2  A  v000005   0.0\n",
      "5   P  Y    2  B  v000006   0.0\n",
      "6   Q  Y    1  A  v000007  10.0\n",
      "7   Q  Y    1  B  v000008  20.0\n"
     ]
    }
   ],
   "source": [
    "import numpy as np\n",
    "import pandas as pd\n",
    "\n",
    "製品 = list('AB')\n",
    "需要地 = list('PQ')\n",
    "工場 = list('XY')\n",
    "レーン = (2,2)\n",
    "\n",
    "# 輸送費表 #\n",
    "tbdi = pd.DataFrame(((j,k) for j in 需要地 for k in 工場), columns=['需要地','工場'])\n",
    "tbdi['輸送費'] = [1,2,3,1]\n",
    "print(tbdi)\n",
    "\n",
    "# 需要表 #\n",
    "tbde = pd.DataFrame(((j,i) for j in 需要地 for i in 製品), columns=['需要地','製品'])\n",
    "tbde['需要'] = [10,10,20,20]\n",
    "print(tbde)\n",
    "\n",
    "# 生産表 #\n",
    "tbfa = pd.DataFrame(((k,l,i,0,np.inf) for k,nl in zip (工場,レーン) for l in range(nl) for i in 製品), \n",
    "                    columns=['工場','レーン','製品','下限','上限'])\n",
    "tbfa['生産費'] = [1,np.nan,np.nan,1,3,np.nan,5,3]\n",
    "tbfa.dropna(inplace=True)\n",
    "tbfa.loc[4,'上限']=10\n",
    "print(tbfa)\n",
    "\n",
    "from ortoolpy import logistics_network\n",
    "_, tbdi2, _ = logistics_network(tbde,tbdi,tbfa)\n",
    "print(tbfa)\n",
    "print(tbdi2)"
   ]
  },
  {
   "cell_type": "markdown",
   "metadata": {},
   "source": [
    "### ノック６９：最適ネットワークにおける輸送コストとその内訳を計算しよう"
   ]
  },
  {
   "cell_type": "code",
   "execution_count": 10,
   "metadata": {},
   "outputs": [
    {
     "name": "stdout",
     "output_type": "stream",
     "text": [
      "  需要地 工場  輸送費 製品     VarX  ValX\n",
      "0   P  X    1  A  v000001  10.0\n",
      "1   P  X    1  B  v000002  10.0\n",
      "2   Q  X    3  A  v000003  10.0\n",
      "3   Q  X    3  B  v000004   0.0\n",
      "4   P  Y    2  A  v000005   0.0\n",
      "5   P  Y    2  B  v000006   0.0\n",
      "6   Q  Y    1  A  v000007  10.0\n",
      "7   Q  Y    1  B  v000008  20.0\n",
      "総輸送コスト:80.0\n"
     ]
    }
   ],
   "source": [
    "print(tbdi2)\n",
    "trans_cost = 0\n",
    "for i in range(len(tbdi2.index)):\n",
    "    trans_cost += tbdi2[\"輸送費\"].iloc[i]*tbdi2[\"ValX\"].iloc[i]\n",
    "print(\"総輸送コスト:\"+str(trans_cost))"
   ]
  },
  {
   "cell_type": "markdown",
   "metadata": {},
   "source": [
    "### ノック７０：最適ネットワークにおける生産コストとその内訳を計算しよう"
   ]
  },
  {
   "cell_type": "code",
   "execution_count": 11,
   "metadata": {},
   "outputs": [
    {
     "name": "stdout",
     "output_type": "stream",
     "text": [
      "  工場  レーン 製品  下限    上限  生産費     VarY  ValY\n",
      "0  X    0  A   0   inf  1.0  v000009  20.0\n",
      "3  X    1  B   0   inf  1.0  v000010  10.0\n",
      "4  Y    0  A   0  10.0  3.0  v000011  10.0\n",
      "6  Y    1  A   0   inf  5.0  v000012   0.0\n",
      "7  Y    1  B   0   inf  3.0  v000013  20.0\n",
      "総生産コスト:120.0\n"
     ]
    }
   ],
   "source": [
    "print(tbfa)\n",
    "product_cost = 0\n",
    "for i in range(len(tbfa.index)):\n",
    "    product_cost += tbfa[\"生産費\"].iloc[i]*tbfa[\"ValY\"].iloc[i]\n",
    "print(\"総生産コスト:\"+str(product_cost))"
   ]
  }
 ],
 "metadata": {
  "kernelspec": {
   "display_name": "Python 3",
   "language": "python",
   "name": "python3"
  },
  "language_info": {
   "codemirror_mode": {
    "name": "ipython",
    "version": 3
   },
   "file_extension": ".py",
   "mimetype": "text/x-python",
   "name": "python",
   "nbconvert_exporter": "python",
   "pygments_lexer": "ipython3",
   "version": "3.7.9"
  }
 },
 "nbformat": 4,
 "nbformat_minor": 2
}
